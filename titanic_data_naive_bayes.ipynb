{
 "cells": [
  {
   "cell_type": "code",
   "execution_count": 1,
   "id": "fd762d6e",
   "metadata": {},
   "outputs": [],
   "source": [
    "# import necessary libraries\n",
    "import numpy as np\n",
    "import pandas as pd\n",
    "import seaborn as sns\n",
    "import matplotlib.pyplot as plt\n",
    "\n",
    "# figures inline, ignore warnings, setting visualisation style, standardisation\n",
    "%matplotlib inline \n",
    "import warnings \n",
    "warnings.filterwarnings(\"ignore\") \n",
    "sns.set()\n",
    "\n",
    "# algo libraries\n",
    "from sklearn.model_selection import train_test_split, GridSearchCV, RandomizedSearchCV, KFold, cross_val_score\n",
    "from sklearn.naive_bayes import GaussianNB\n",
    "\n",
    "# evaluation libraries\n",
    "from sklearn.metrics import accuracy_score, confusion_matrix, roc_curve, auc, classification_report, roc_auc_score"
   ]
  },
  {
   "cell_type": "code",
   "execution_count": 2,
   "id": "c611758f",
   "metadata": {},
   "outputs": [],
   "source": [
    "# load datasets\n",
    "train_proc=pd.read_csv(\"train_proc.csv\")\n",
    "test_proc = pd.read_csv(\"test_proc.csv\")"
   ]
  },
  {
   "cell_type": "code",
   "execution_count": 3,
   "id": "ba89221c",
   "metadata": {},
   "outputs": [],
   "source": [
    "# splitting from training and validation data\n",
    "X = train_proc.drop(\"Survived\", axis =1)\n",
    "y = train_proc['Survived']\n",
    "X_train,X_test,y_train,y_test = train_test_split(X,y,test_size=0.2)"
   ]
  },
  {
   "cell_type": "code",
   "execution_count": 4,
   "id": "7949a4c4",
   "metadata": {},
   "outputs": [
    {
     "data": {
      "text/html": [
       "<div>\n",
       "<style scoped>\n",
       "    .dataframe tbody tr th:only-of-type {\n",
       "        vertical-align: middle;\n",
       "    }\n",
       "\n",
       "    .dataframe tbody tr th {\n",
       "        vertical-align: top;\n",
       "    }\n",
       "\n",
       "    .dataframe thead th {\n",
       "        text-align: right;\n",
       "    }\n",
       "</style>\n",
       "<table border=\"1\" class=\"dataframe\">\n",
       "  <thead>\n",
       "    <tr style=\"text-align: right;\">\n",
       "      <th></th>\n",
       "      <th>Age</th>\n",
       "      <th>SibSp</th>\n",
       "      <th>Parch</th>\n",
       "      <th>Fare</th>\n",
       "      <th>Pclass_2</th>\n",
       "      <th>Pclass_3</th>\n",
       "      <th>Sex_male</th>\n",
       "      <th>Embarked_Q</th>\n",
       "      <th>Embarked_S</th>\n",
       "      <th>Title_Miss</th>\n",
       "      <th>Title_Mr</th>\n",
       "      <th>Title_Mrs</th>\n",
       "      <th>Title_Rare</th>\n",
       "    </tr>\n",
       "  </thead>\n",
       "  <tbody>\n",
       "    <tr>\n",
       "      <th>0</th>\n",
       "      <td>-0.551881</td>\n",
       "      <td>1</td>\n",
       "      <td>0</td>\n",
       "      <td>-0.726134</td>\n",
       "      <td>False</td>\n",
       "      <td>True</td>\n",
       "      <td>True</td>\n",
       "      <td>False</td>\n",
       "      <td>True</td>\n",
       "      <td>False</td>\n",
       "      <td>True</td>\n",
       "      <td>False</td>\n",
       "      <td>False</td>\n",
       "    </tr>\n",
       "    <tr>\n",
       "      <th>1</th>\n",
       "      <td>0.768879</td>\n",
       "      <td>1</td>\n",
       "      <td>0</td>\n",
       "      <td>2.353815</td>\n",
       "      <td>False</td>\n",
       "      <td>False</td>\n",
       "      <td>False</td>\n",
       "      <td>False</td>\n",
       "      <td>False</td>\n",
       "      <td>False</td>\n",
       "      <td>False</td>\n",
       "      <td>True</td>\n",
       "      <td>False</td>\n",
       "    </tr>\n",
       "    <tr>\n",
       "      <th>2</th>\n",
       "      <td>-0.221691</td>\n",
       "      <td>0</td>\n",
       "      <td>0</td>\n",
       "      <td>-0.693667</td>\n",
       "      <td>False</td>\n",
       "      <td>True</td>\n",
       "      <td>False</td>\n",
       "      <td>False</td>\n",
       "      <td>True</td>\n",
       "      <td>True</td>\n",
       "      <td>False</td>\n",
       "      <td>False</td>\n",
       "      <td>False</td>\n",
       "    </tr>\n",
       "    <tr>\n",
       "      <th>3</th>\n",
       "      <td>0.521236</td>\n",
       "      <td>1</td>\n",
       "      <td>0</td>\n",
       "      <td>1.479214</td>\n",
       "      <td>False</td>\n",
       "      <td>False</td>\n",
       "      <td>False</td>\n",
       "      <td>False</td>\n",
       "      <td>True</td>\n",
       "      <td>False</td>\n",
       "      <td>False</td>\n",
       "      <td>True</td>\n",
       "      <td>False</td>\n",
       "    </tr>\n",
       "    <tr>\n",
       "      <th>4</th>\n",
       "      <td>0.521236</td>\n",
       "      <td>0</td>\n",
       "      <td>0</td>\n",
       "      <td>-0.687655</td>\n",
       "      <td>False</td>\n",
       "      <td>True</td>\n",
       "      <td>True</td>\n",
       "      <td>False</td>\n",
       "      <td>True</td>\n",
       "      <td>False</td>\n",
       "      <td>True</td>\n",
       "      <td>False</td>\n",
       "      <td>False</td>\n",
       "    </tr>\n",
       "  </tbody>\n",
       "</table>\n",
       "</div>"
      ],
      "text/plain": [
       "        Age  SibSp  Parch      Fare  Pclass_2  Pclass_3  Sex_male  Embarked_Q  \\\n",
       "0 -0.551881      1      0 -0.726134     False      True      True       False   \n",
       "1  0.768879      1      0  2.353815     False     False     False       False   \n",
       "2 -0.221691      0      0 -0.693667     False      True     False       False   \n",
       "3  0.521236      1      0  1.479214     False     False     False       False   \n",
       "4  0.521236      0      0 -0.687655     False      True      True       False   \n",
       "\n",
       "   Embarked_S  Title_Miss  Title_Mr  Title_Mrs  Title_Rare  \n",
       "0        True       False      True      False       False  \n",
       "1       False       False     False       True       False  \n",
       "2        True        True     False      False       False  \n",
       "3        True       False     False       True       False  \n",
       "4        True       False      True      False       False  "
      ]
     },
     "execution_count": 4,
     "metadata": {},
     "output_type": "execute_result"
    }
   ],
   "source": [
    "X.head()"
   ]
  },
  {
   "cell_type": "code",
   "execution_count": 5,
   "id": "dc7db28e",
   "metadata": {},
   "outputs": [
    {
     "data": {
      "text/plain": [
       "0    0\n",
       "1    1\n",
       "2    1\n",
       "3    1\n",
       "4    0\n",
       "Name: Survived, dtype: int64"
      ]
     },
     "execution_count": 5,
     "metadata": {},
     "output_type": "execute_result"
    }
   ],
   "source": [
    "y.head()"
   ]
  },
  {
   "cell_type": "code",
   "execution_count": 6,
   "id": "31e75868",
   "metadata": {},
   "outputs": [
    {
     "data": {
      "text/plain": [
       "0.7951807228915663"
      ]
     },
     "execution_count": 6,
     "metadata": {},
     "output_type": "execute_result"
    }
   ],
   "source": [
    "# applying Gaussian Naive Bayes algorithm\n",
    "model = GaussianNB(var_smoothing=1e-9)\n",
    "model.fit(X_train, y_train.values.ravel())\n",
    "model.score(X_train,y_train)"
   ]
  },
  {
   "cell_type": "code",
   "execution_count": 7,
   "id": "2dfa5778",
   "metadata": {},
   "outputs": [
    {
     "name": "stdout",
     "output_type": "stream",
     "text": [
      "[0.78195489 0.7443609  0.81203008 0.80451128 0.8030303 ]\n",
      "0.789177489177489\n"
     ]
    }
   ],
   "source": [
    "# cross validation score with random shuffling\n",
    "kf=KFold(5, shuffle=True, random_state=9) #for shuffling\n",
    "cross_val_results = cross_val_score(model, X_train, y_train.values.ravel(), cv=kf)\n",
    "print(cross_val_results)\n",
    "print(cross_val_results.mean())"
   ]
  },
  {
   "cell_type": "code",
   "execution_count": 8,
   "id": "ad73745b",
   "metadata": {},
   "outputs": [
    {
     "name": "stdout",
     "output_type": "stream",
     "text": [
      "0.7904191616766467\n"
     ]
    }
   ],
   "source": [
    "# predictions on validation set and accuracy\n",
    "predictions = model.predict(X_test)\n",
    "print(accuracy_score(y_test,predictions))"
   ]
  },
  {
   "cell_type": "code",
   "execution_count": 9,
   "id": "91f58d8f",
   "metadata": {},
   "outputs": [
    {
     "data": {
      "text/plain": [
       "array([[86, 17],\n",
       "       [18, 46]], dtype=int64)"
      ]
     },
     "execution_count": 9,
     "metadata": {},
     "output_type": "execute_result"
    }
   ],
   "source": [
    "# confusion matrix\n",
    "cm = confusion_matrix(y_test,predictions)\n",
    "confusion_matrix(y_test,predictions)"
   ]
  },
  {
   "cell_type": "code",
   "execution_count": 10,
   "id": "caf325b4",
   "metadata": {},
   "outputs": [
    {
     "data": {
      "image/png": "[encoded data removed]",
      "text/plain": [
       "<Figure size 640x480 with 2 Axes>"
      ]
     },
     "metadata": {},
     "output_type": "display_data"
    }
   ],
   "source": [
    "sns.heatmap(cm, \n",
    "            annot=True,\n",
    "            fmt=\"d\", \n",
    "            xticklabels=['Positive','Negative'],\n",
    "            yticklabels=['Positive','Negative'])\n",
    "plt.ylabel('Predicted')\n",
    "plt.title('Confusion Matrix', fontsize=17, pad=20)\n",
    "plt.gca().xaxis.set_label_position('top') \n",
    "plt.gca().xaxis.tick_top()\n",
    "plt.xlabel('Actual')\n",
    "plt.show()"
   ]
  },
  {
   "cell_type": "code",
   "execution_count": 11,
   "id": "bdb205c0",
   "metadata": {},
   "outputs": [
    {
     "name": "stdout",
     "output_type": "stream",
     "text": [
      "0.8356341019417477\n"
     ]
    }
   ],
   "source": [
    "# roc-auc curve\n",
    "y_pred_prob = model.predict_proba(X_test)[:,1]\n",
    "fpr_dt,tpr_dt,threshold=roc_curve(y_test,y_pred_prob)\n",
    "roc_auc_dt = auc(fpr_dt,tpr_dt)\n",
    "print(roc_auc_dt)"
   ]
  },
  {
   "cell_type": "code",
   "execution_count": 12,
   "id": "b8d6cd65",
   "metadata": {},
   "outputs": [
    {
     "data": {
      "text/plain": [
       "[<matplotlib.lines.Line2D at 0x1297d23e350>]"
      ]
     },
     "execution_count": 12,
     "metadata": {},
     "output_type": "execute_result"
    },
    {
     "data": {
      "image/png": "[encoded data removed]",
      "text/plain": [
       "<Figure size 640x480 with 1 Axes>"
      ]
     },
     "metadata": {},
     "output_type": "display_data"
    }
   ],
   "source": [
    "plt.figure()\n",
    "plt.plot(fpr_dt,tpr_dt,color='orange',lw=2,label=f'Logistic Regression(AUC = {roc_auc_dt:.2f})')\n",
    "plt.title(\"ROC-AUC Curve\")\n",
    "plt.xlabel(\"False Positive Rate\")\n",
    "plt.ylabel(\"True Positive Rate\")\n",
    "plt.legend(loc=\"lower right\")\n",
    "plt.plot([0,1],[0,1],color='blue',lw=2,linestyle='--')"
   ]
  },
  {
   "cell_type": "code",
   "execution_count": 13,
   "id": "84f206e8",
   "metadata": {},
   "outputs": [
    {
     "name": "stdout",
     "output_type": "stream",
     "text": [
      "              precision    recall  f1-score   support\n",
      "\n",
      "           0       0.83      0.83      0.83       103\n",
      "           1       0.73      0.72      0.72        64\n",
      "\n",
      "    accuracy                           0.79       167\n",
      "   macro avg       0.78      0.78      0.78       167\n",
      "weighted avg       0.79      0.79      0.79       167\n",
      "\n"
     ]
    }
   ],
   "source": [
    "# classification_report\n",
    "report = classification_report(y_test,predictions)\n",
    "print(report)"
   ]
  },
  {
   "cell_type": "code",
   "execution_count": 14,
   "id": "cb135e2e",
   "metadata": {},
   "outputs": [],
   "source": [
    "# predictions on test data\n",
    "predictions = model.predict(test_proc)\n",
    "\n",
    "# creating dataframe of test predictions with Passenger Id, uncomment after loading test file with Passenger Id\n",
    "# prediction_df = pd.DataFrame({'PassengerId':test['PassengerId'], 'Survived':predictions})\n",
    "\n",
    "# Save the predictions to a CSV file, uncomment to save file\n",
    "# prediction_df.to_csv('prediction.csv', index=False)"
   ]
  }
 ],
 "metadata": {
  "kernelspec": {
   "display_name": "Python 3 (ipykernel)",
   "language": "python",
   "name": "python3"
  },
  "language_info": {
   "codemirror_mode": {
    "name": "ipython",
    "version": 3
   },
   "file_extension": ".py",
   "mimetype": "text/x-python",
   "name": "python",
   "nbconvert_exporter": "python",
   "pygments_lexer": "ipython3",
   "version": "3.11.5"
  }
 },
 "nbformat": 4,
 "nbformat_minor": 5
}
